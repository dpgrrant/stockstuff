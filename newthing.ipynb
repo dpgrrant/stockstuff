{
 "cells": [
  {
   "cell_type": "code",
   "execution_count": 1,
   "metadata": {},
   "outputs": [],
   "source": [
    "import requests\n",
    "import json\n",
    "\n",
    "\n"
   ]
  },
  {
   "cell_type": "code",
   "execution_count": 2,
   "metadata": {},
   "outputs": [],
   "source": [
    "\n",
    "url = 'https://www.alphavantage.co/query?function=OVERVIEW&symbol=AAPL&apikey=94SM4DAGQ024RW8N'\n",
    "r = requests.get(url)\n",
    "data = r.json()\n",
    "\n",
    "\n",
    "\n",
    "with open('companydata.json', 'w', encoding='utf-8') as f:\n",
    "    json.dump(data, f, ensure_ascii=False, indent=4)\n",
    "\n"
   ]
  },
  {
   "cell_type": "code",
   "execution_count": 3,
   "metadata": {},
   "outputs": [],
   "source": [
    "url = 'https://www.alphavantage.co/query?function=TREASURY_YIELD&interval=monthly&maturity=3month&apikey=94SM4DAGQ024RW8N'\n",
    "r = requests.get(url)\n",
    "data = r.json()\n",
    "\n",
    "with open('treasurydata.json', 'w', encoding='utf-8') as f:\n",
    "    json.dump(data, f, ensure_ascii=False, indent=4)\n"
   ]
  },
  {
   "cell_type": "code",
   "execution_count": 4,
   "metadata": {},
   "outputs": [],
   "source": [
    "url = 'https://www.alphavantage.co/query?function=CPI&interval=monthly&apikey=94SM4DAGQ024RW8N'\n",
    "r = requests.get(url)\n",
    "data = r.json()\n",
    "\n",
    "with open('cpi.json', 'w', encoding='utf-8') as f:\n",
    "    json.dump(data, f, ensure_ascii=False, indent=4)"
   ]
  },
  {
   "cell_type": "code",
   "execution_count": 16,
   "metadata": {},
   "outputs": [],
   "source": [
    "url = 'https://www.alphavantage.co/query?function=FEDERAL_FUNDS_RATE&interval=daily&apikey=94SM4DAGQ024RW8N'\n",
    "r = requests.get(url)\n",
    "data = r.json()\n",
    "\n",
    "with open('fedinterestrates.json', 'w', encoding='utf-8') as f:\n",
    "    json.dump(data, f, ensure_ascii=False, indent=4)"
   ]
  },
  {
   "cell_type": "code",
   "execution_count": 17,
   "metadata": {},
   "outputs": [],
   "source": [
    "url = 'https://www.alphavantage.co/query?function=INFLATION&apikey=94SM4DAGQ024RW8N'\n",
    "r = requests.get(url)\n",
    "data = r.json()\n",
    "\n",
    "with open('inflation.json', 'w', encoding='utf-8') as f:\n",
    "    json.dump(data, f, ensure_ascii=False, indent=4)"
   ]
  },
  {
   "cell_type": "code",
   "execution_count": 18,
   "metadata": {},
   "outputs": [],
   "source": [
    "url = 'https://www.alphavantage.co/query?function=INFLATION_EXPECTATION&apikey=94SM4DAGQ024RW8N'\n",
    "r = requests.get(url)\n",
    "data = r.json()\n",
    "\n",
    "with open('inflationexp.json', 'w', encoding='utf-8') as f:\n",
    "    json.dump(data, f, ensure_ascii=False, indent=4)"
   ]
  },
  {
   "cell_type": "code",
   "execution_count": 19,
   "metadata": {},
   "outputs": [],
   "source": [
    "url = 'https://www.alphavantage.co/query?function=CONSUMER_SENTIMENT&apikey=94SM4DAGQ024RW8N'\n",
    "r = requests.get(url)\n",
    "data = r.json()\n",
    "\n",
    "with open('consumersent.json', 'w', encoding='utf-8') as f:\n",
    "    json.dump(data, f, ensure_ascii=False, indent=4)"
   ]
  },
  {
   "cell_type": "code",
   "execution_count": 20,
   "metadata": {},
   "outputs": [],
   "source": [
    "url = 'https://www.alphavantage.co/query?function=REAL_GDP&interval=quarterly&apikey=94SM4DAGQ024RW8N'\n",
    "r = requests.get(url)\n",
    "data = r.json()\n",
    "\n",
    "with open('GDP.json', 'w', encoding='utf-8') as f:\n",
    "    json.dump(data, f, ensure_ascii=False, indent=4)"
   ]
  },
  {
   "cell_type": "code",
   "execution_count": 21,
   "metadata": {},
   "outputs": [],
   "source": [
    "url = 'https://www.alphavantage.co/query?function=REAL_GDP_PER_CAPITA&apikey=94SM4DAGQ024RW8N'\n",
    "r = requests.get(url)\n",
    "data = r.json()\n",
    "\n",
    "with open('GDPperCap.json', 'w', encoding='utf-8') as f:\n",
    "    json.dump(data, f, ensure_ascii=False, indent=4)"
   ]
  },
  {
   "cell_type": "code",
   "execution_count": 22,
   "metadata": {},
   "outputs": [],
   "source": [
    "url = 'https://www.alphavantage.co/query?function=RETAIL_SALES&apikey=94SM4DAGQ024RW8N'\n",
    "r = requests.get(url)\n",
    "data = r.json()\n",
    "\n",
    "with open('retailsales.json', 'w', encoding='utf-8') as f:\n",
    "    json.dump(data, f, ensure_ascii=False, indent=4)"
   ]
  },
  {
   "cell_type": "code",
   "execution_count": 26,
   "metadata": {},
   "outputs": [],
   "source": [
    "url = 'https://www.alphavantage.co/query?function=UNEMPLOYMENT&apikey=94SM4DAGQ024RW8N'\n",
    "r = requests.get(url)\n",
    "data = r.json()\n",
    "\n",
    "with open('unemployment.json', 'w', encoding='utf-8') as f:\n",
    "    json.dump(data, f, ensure_ascii=False, indent=4)"
   ]
  },
  {
   "cell_type": "code",
   "execution_count": 27,
   "metadata": {},
   "outputs": [],
   "source": [
    "url = 'https://www.alphavantage.co/query?function=NONFARM_PAYROLL&apikey=94SM4DAGQ024RW8N'\n",
    "r = requests.get(url)\n",
    "data = r.json()\n",
    "\n",
    "with open('payroll.json', 'w', encoding='utf-8') as f:\n",
    "    json.dump(data, f, ensure_ascii=False, indent=4)"
   ]
  },
  {
   "cell_type": "code",
   "execution_count": 28,
   "metadata": {},
   "outputs": [],
   "source": [
    "url = 'https://www.alphavantage.co/query?function=DURABLES&apikey=94SM4DAGQ024RW8N'\n",
    "r = requests.get(url)\n",
    "data = r.json()\n",
    "\n",
    "with open('durables.json', 'w', encoding='utf-8') as f:\n",
    "    json.dump(data, f, ensure_ascii=False, indent=4)"
   ]
  },
  {
   "cell_type": "code",
   "execution_count": 29,
   "metadata": {},
   "outputs": [],
   "source": [
    "url = 'https://www.alphavantage.co/query?function=EARNINGS&symbol=AAPL&apikey=94SM4DAGQ024RW8N'\n",
    "r = requests.get(url)\n",
    "data = r.json()\n",
    "\n",
    "with open('EARNINGS.json', 'w', encoding='utf-8') as f:\n",
    "    json.dump(data, f, ensure_ascii=False, indent=4)"
   ]
  }
 ],
 "metadata": {
  "interpreter": {
   "hash": "c85371f5eb66c006217e79deda3fbfae3264cd2a815628e740487bb6b0edad65"
  },
  "kernelspec": {
   "display_name": "Python 3.10.2 64-bit",
   "language": "python",
   "name": "python3"
  },
  "language_info": {
   "codemirror_mode": {
    "name": "ipython",
    "version": 3
   },
   "file_extension": ".py",
   "mimetype": "text/x-python",
   "name": "python",
   "nbconvert_exporter": "python",
   "pygments_lexer": "ipython3",
   "version": "3.10.2"
  },
  "orig_nbformat": 4
 },
 "nbformat": 4,
 "nbformat_minor": 2
}
